{
  "cells": [
    {
      "cell_type": "markdown",
      "metadata": {
        "id": "view-in-github",
        "colab_type": "text"
      },
      "source": [
        "<a href=\"https://colab.research.google.com/github/nileshmalode11/NER_with_tensorflow_bert/blob/main/NER_tensorflow_bert.ipynb\" target=\"_parent\"><img src=\"https://colab.research.google.com/assets/colab-badge.svg\" alt=\"Open In Colab\"/></a>"
      ]
    },
    {
      "cell_type": "markdown",
      "id": "7bd20f0e",
      "metadata": {
        "papermill": {
          "duration": 0.010214,
          "end_time": "2023-08-22T10:34:36.786164",
          "exception": false,
          "start_time": "2023-08-22T10:34:36.775950",
          "status": "completed"
        },
        "tags": [],
        "id": "7bd20f0e"
      },
      "source": [
        "# **NER USING BERT**\n",
        "\n",
        "## The goal of a named entity recognition (NER) system is to identify all textual mentions of the named entities. This can be broken down into two sub-tasks: identifying the boundaries of the NE, and identifying its type.\n",
        "\n",
        "Named entity recognition is a task that is well-suited to the type of classifier-based approach. In particular, a tagger can be built that labels each word in a sentence using the IOB format, where chunks are labelled by their appropriate type.\n",
        "\n",
        "The IOB Tagging system contains tags of the form:\n",
        "\n",
        "B - {CHUNK_TYPE} – for the word in the Beginning chunk\n",
        "I - {CHUNK_TYPE} – for words Inside the chunk\n",
        "O – Outside any chunk\n",
        "The IOB tags are further classified into the following classes –\n",
        "\n",
        "geo = Geographical Entity\n",
        "org = Organization\n",
        "per = Person\n",
        "gpe = Geopolitical Entity\n",
        "tim = Time indicator\n",
        "art = Artifact\n",
        "eve = Event\n",
        "nat = Natural Phenomenon"
      ]
    },
    {
      "cell_type": "markdown",
      "id": "675214d4",
      "metadata": {
        "papermill": {
          "duration": 0.010912,
          "end_time": "2023-08-22T10:34:36.807328",
          "exception": false,
          "start_time": "2023-08-22T10:34:36.796416",
          "status": "completed"
        },
        "tags": [],
        "id": "675214d4"
      },
      "source": [
        "## **1. Connecting To TPU**"
      ]
    },
    {
      "cell_type": "code",
      "execution_count": null,
      "id": "0c9c602a",
      "metadata": {
        "_kg_hide-output": true,
        "execution": {
          "iopub.execute_input": "2023-08-22T10:34:36.829287Z",
          "iopub.status.busy": "2023-08-22T10:34:36.828709Z",
          "iopub.status.idle": "2023-08-22T10:34:41.945911Z",
          "shell.execute_reply": "2023-08-22T10:34:41.944662Z"
        },
        "papermill": {
          "duration": 5.130658,
          "end_time": "2023-08-22T10:34:41.948508",
          "exception": false,
          "start_time": "2023-08-22T10:34:36.817850",
          "status": "completed"
        },
        "tags": [],
        "id": "0c9c602a",
        "outputId": "d9dbb3f0-3c52-46cc-cd6f-ca5be5ea2265"
      },
      "outputs": [
        {
          "name": "stdout",
          "output_type": "stream",
          "text": [
            "Number of replicas: 1\n"
          ]
        }
      ],
      "source": [
        "import tensorflow  as tf\n",
        "try:\n",
        "    tpu = tf.distribute.cluster_resolver.TPUClusterResolver()\n",
        "    print('Device:', tpu.master())\n",
        "    tf.config.experimental_connect_to_cluster(tpu)\n",
        "    tf.tpu.experimental.initialize_tpu_system(tpu)\n",
        "    strategy = tf.distribute.experimental.TPUStrategy(tpu)\n",
        "except:\n",
        "    strategy = tf.distribute.get_strategy()\n",
        "print('Number of replicas:', strategy.num_replicas_in_sync)"
      ]
    },
    {
      "cell_type": "markdown",
      "id": "819133b4",
      "metadata": {
        "papermill": {
          "duration": 0.010583,
          "end_time": "2023-08-22T10:34:41.969985",
          "exception": false,
          "start_time": "2023-08-22T10:34:41.959402",
          "status": "completed"
        },
        "tags": [],
        "id": "819133b4"
      },
      "source": [
        "## **2. Importing Required Libraries**"
      ]
    },
    {
      "cell_type": "code",
      "execution_count": null,
      "id": "f8b2fac0",
      "metadata": {
        "execution": {
          "iopub.execute_input": "2023-08-22T10:34:41.992836Z",
          "iopub.status.busy": "2023-08-22T10:34:41.992320Z",
          "iopub.status.idle": "2023-08-22T10:34:56.746431Z",
          "shell.execute_reply": "2023-08-22T10:34:56.745324Z"
        },
        "papermill": {
          "duration": 14.767899,
          "end_time": "2023-08-22T10:34:56.749200",
          "exception": false,
          "start_time": "2023-08-22T10:34:41.981301",
          "status": "completed"
        },
        "tags": [],
        "id": "f8b2fac0"
      },
      "outputs": [],
      "source": [
        "import numpy as np\n",
        "import pandas as pd\n",
        "import plotly.express as px\n",
        "import matplotlib.pyplot as plt\n",
        "from tqdm import tqdm\n",
        "\n",
        "import tensorflow as tf\n",
        "from tensorflow.keras.callbacks import EarlyStopping\n",
        "\n",
        "\n",
        "import transformers\n",
        "from transformers import BertTokenizerFast\n",
        "from transformers import TFBertModel\n",
        "\n",
        "from sklearn import preprocessing\n",
        "from sklearn.model_selection import train_test_split"
      ]
    },
    {
      "cell_type": "markdown",
      "id": "f256fe20",
      "metadata": {
        "papermill": {
          "duration": 0.010029,
          "end_time": "2023-08-22T10:34:56.769993",
          "exception": false,
          "start_time": "2023-08-22T10:34:56.759964",
          "status": "completed"
        },
        "tags": [],
        "id": "f256fe20"
      },
      "source": [
        "## **3. Loading Dataset**"
      ]
    },
    {
      "cell_type": "code",
      "execution_count": null,
      "id": "d3ba31ee",
      "metadata": {
        "execution": {
          "iopub.execute_input": "2023-08-22T10:34:56.792650Z",
          "iopub.status.busy": "2023-08-22T10:34:56.791938Z",
          "iopub.status.idle": "2023-08-22T10:34:57.906329Z",
          "shell.execute_reply": "2023-08-22T10:34:57.905282Z"
        },
        "papermill": {
          "duration": 1.1282,
          "end_time": "2023-08-22T10:34:57.908627",
          "exception": false,
          "start_time": "2023-08-22T10:34:56.780427",
          "status": "completed"
        },
        "tags": [],
        "id": "d3ba31ee",
        "outputId": "d932f1b7-3467-4108-8a89-43c95d49e5d3"
      },
      "outputs": [
        {
          "name": "stderr",
          "output_type": "stream",
          "text": [
            "/opt/conda/lib/python3.7/site-packages/IPython/core/interactiveshell.py:3552: FutureWarning: The error_bad_lines argument has been deprecated and will be removed in a future version.\n",
            "\n",
            "\n",
            "  exec(code_obj, self.user_global_ns, self.user_ns)\n"
          ]
        },
        {
          "data": {
            "text/html": [
              "<div>\n",
              "<style scoped>\n",
              "    .dataframe tbody tr th:only-of-type {\n",
              "        vertical-align: middle;\n",
              "    }\n",
              "\n",
              "    .dataframe tbody tr th {\n",
              "        vertical-align: top;\n",
              "    }\n",
              "\n",
              "    .dataframe thead th {\n",
              "        text-align: right;\n",
              "    }\n",
              "</style>\n",
              "<table border=\"1\" class=\"dataframe\">\n",
              "  <thead>\n",
              "    <tr style=\"text-align: right;\">\n",
              "      <th></th>\n",
              "      <th>Sentence #</th>\n",
              "      <th>Word</th>\n",
              "      <th>POS</th>\n",
              "      <th>Tag</th>\n",
              "    </tr>\n",
              "  </thead>\n",
              "  <tbody>\n",
              "    <tr>\n",
              "      <th>0</th>\n",
              "      <td>Sentence: 1</td>\n",
              "      <td>Thousands</td>\n",
              "      <td>NNS</td>\n",
              "      <td>O</td>\n",
              "    </tr>\n",
              "    <tr>\n",
              "      <th>24</th>\n",
              "      <td>Sentence: 2</td>\n",
              "      <td>Families</td>\n",
              "      <td>NNS</td>\n",
              "      <td>O</td>\n",
              "    </tr>\n",
              "    <tr>\n",
              "      <th>54</th>\n",
              "      <td>Sentence: 3</td>\n",
              "      <td>They</td>\n",
              "      <td>PRP</td>\n",
              "      <td>O</td>\n",
              "    </tr>\n",
              "    <tr>\n",
              "      <th>68</th>\n",
              "      <td>Sentence: 4</td>\n",
              "      <td>Police</td>\n",
              "      <td>NNS</td>\n",
              "      <td>O</td>\n",
              "    </tr>\n",
              "    <tr>\n",
              "      <th>83</th>\n",
              "      <td>Sentence: 5</td>\n",
              "      <td>The</td>\n",
              "      <td>DT</td>\n",
              "      <td>O</td>\n",
              "    </tr>\n",
              "  </tbody>\n",
              "</table>\n",
              "</div>"
            ],
            "text/plain": [
              "     Sentence #       Word  POS Tag\n",
              "0   Sentence: 1  Thousands  NNS   O\n",
              "24  Sentence: 2   Families  NNS   O\n",
              "54  Sentence: 3       They  PRP   O\n",
              "68  Sentence: 4     Police  NNS   O\n",
              "83  Sentence: 5        The   DT   O"
            ]
          },
          "execution_count": 4,
          "metadata": {},
          "output_type": "execute_result"
        }
      ],
      "source": [
        "dataframe = pd.read_csv(\"/kaggle/input/entity-annotated-corpus/ner_dataset.csv\",encoding = 'ISO-8859-1',error_bad_lines = False)\n",
        "dataframe = dataframe.dropna()\n",
        "dataframe.head()"
      ]
    },
    {
      "cell_type": "code",
      "execution_count": null,
      "id": "144b6444",
      "metadata": {
        "execution": {
          "iopub.execute_input": "2023-08-22T10:34:57.932744Z",
          "iopub.status.busy": "2023-08-22T10:34:57.930947Z",
          "iopub.status.idle": "2023-08-22T10:34:57.951168Z",
          "shell.execute_reply": "2023-08-22T10:34:57.950066Z"
        },
        "papermill": {
          "duration": 0.03445,
          "end_time": "2023-08-22T10:34:57.953777",
          "exception": false,
          "start_time": "2023-08-22T10:34:57.919327",
          "status": "completed"
        },
        "tags": [],
        "id": "144b6444",
        "outputId": "605c9c76-60ca-494b-d611-97db5f983525"
      },
      "outputs": [
        {
          "name": "stdout",
          "output_type": "stream",
          "text": [
            "Number of Tags : 9\n"
          ]
        }
      ],
      "source": [
        "dataframe.Tag.unique()\n",
        "print(f\"Number of Tags : {len(dataframe.Tag.unique())}\")"
      ]
    },
    {
      "cell_type": "markdown",
      "id": "190f99b3",
      "metadata": {
        "papermill": {
          "duration": 0.010316,
          "end_time": "2023-08-22T10:34:57.974762",
          "exception": false,
          "start_time": "2023-08-22T10:34:57.964446",
          "status": "completed"
        },
        "tags": [],
        "id": "190f99b3"
      },
      "source": [
        "## **4. Exploratory Data Analysis**"
      ]
    },
    {
      "cell_type": "code",
      "execution_count": null,
      "id": "f306a534",
      "metadata": {
        "execution": {
          "iopub.execute_input": "2023-08-22T10:34:57.996991Z",
          "iopub.status.busy": "2023-08-22T10:34:57.996663Z",
          "iopub.status.idle": "2023-08-22T10:34:58.849800Z",
          "shell.execute_reply": "2023-08-22T10:34:58.848834Z"
        },
        "papermill": {
          "duration": 0.866645,
          "end_time": "2023-08-22T10:34:58.851857",
          "exception": false,
          "start_time": "2023-08-22T10:34:57.985212",
          "status": "completed"
        },
        "tags": [],
        "id": "f306a534",
        "outputId": "131840b9-471a-4da8-828d-fc8ece6104a1"
      },
      "outputs": [
        {
          "data": {
            "text/html": [
              "        <script type=\"text/javascript\">\n",
              "        window.PlotlyConfig = {MathJaxConfig: 'local'};\n",
              "        if (window.MathJax && window.MathJax.Hub && window.MathJax.Hub.Config) {window.MathJax.Hub.Config({SVG: {font: \"STIX-Web\"}});}\n",
              "        if (typeof require !== 'undefined') {\n",
              "        require.undef(\"plotly\");\n",
              "        requirejs.config({\n",
              "            paths: {\n",
              "                'plotly': ['https://cdn.plot.ly/plotly-2.14.0.min']\n",
              "            }\n",
              "        });\n",
              "        require(['plotly'], function(Plotly) {\n",
              "            window._Plotly = Plotly;\n",
              "        });\n",
              "        }\n",
              "        </script>\n",
              "        "
            ]
          },
          "metadata": {},
          "output_type": "display_data"
        },
        {
          "data": {
            "text/html": [
              "<div>                            <div id=\"1a03d594-4a0e-476d-a0f7-3046edf807c9\" class=\"plotly-graph-div\" style=\"height:525px; width:100%;\"></div>            <script type=\"text/javascript\">                require([\"plotly\"], function(Plotly) {                    window.PLOTLYENV=window.PLOTLYENV || {};                                    if (document.getElementById(\"1a03d594-4a0e-476d-a0f7-3046edf807c9\")) {                    Plotly.newPlot(                        \"1a03d594-4a0e-476d-a0f7-3046edf807c9\",                        [{\"domain\":{\"x\":[0.0,1.0],\"y\":[0.0,1.0]},\"hole\":0.5,\"hovertemplate\":\"label=%{label}<br>value=%{value}<extra></extra>\",\"labels\":[\"O\",\"B-per\",\"B-geo\",\"B-gpe\",\"B-org\",\"B-tim\",\"B-art\",\"B-nat\",\"B-eve\"],\"legendgroup\":\"\",\"name\":\"\",\"showlegend\":true,\"values\":[34310,4019,3335,2989,2752,515,18,11,10],\"type\":\"pie\"}],                        {\"template\":{\"data\":{\"histogram2dcontour\":[{\"type\":\"histogram2dcontour\",\"colorbar\":{\"outlinewidth\":0,\"ticks\":\"\"},\"colorscale\":[[0.0,\"#0d0887\"],[0.1111111111111111,\"#46039f\"],[0.2222222222222222,\"#7201a8\"],[0.3333333333333333,\"#9c179e\"],[0.4444444444444444,\"#bd3786\"],[0.5555555555555556,\"#d8576b\"],[0.6666666666666666,\"#ed7953\"],[0.7777777777777778,\"#fb9f3a\"],[0.8888888888888888,\"#fdca26\"],[1.0,\"#f0f921\"]]}],\"choropleth\":[{\"type\":\"choropleth\",\"colorbar\":{\"outlinewidth\":0,\"ticks\":\"\"}}],\"histogram2d\":[{\"type\":\"histogram2d\",\"colorbar\":{\"outlinewidth\":0,\"ticks\":\"\"},\"colorscale\":[[0.0,\"#0d0887\"],[0.1111111111111111,\"#46039f\"],[0.2222222222222222,\"#7201a8\"],[0.3333333333333333,\"#9c179e\"],[0.4444444444444444,\"#bd3786\"],[0.5555555555555556,\"#d8576b\"],[0.6666666666666666,\"#ed7953\"],[0.7777777777777778,\"#fb9f3a\"],[0.8888888888888888,\"#fdca26\"],[1.0,\"#f0f921\"]]}],\"heatmap\":[{\"type\":\"heatmap\",\"colorbar\":{\"outlinewidth\":0,\"ticks\":\"\"},\"colorscale\":[[0.0,\"#0d0887\"],[0.1111111111111111,\"#46039f\"],[0.2222222222222222,\"#7201a8\"],[0.3333333333333333,\"#9c179e\"],[0.4444444444444444,\"#bd3786\"],[0.5555555555555556,\"#d8576b\"],[0.6666666666666666,\"#ed7953\"],[0.7777777777777778,\"#fb9f3a\"],[0.8888888888888888,\"#fdca26\"],[1.0,\"#f0f921\"]]}],\"heatmapgl\":[{\"type\":\"heatmapgl\",\"colorbar\":{\"outlinewidth\":0,\"ticks\":\"\"},\"colorscale\":[[0.0,\"#0d0887\"],[0.1111111111111111,\"#46039f\"],[0.2222222222222222,\"#7201a8\"],[0.3333333333333333,\"#9c179e\"],[0.4444444444444444,\"#bd3786\"],[0.5555555555555556,\"#d8576b\"],[0.6666666666666666,\"#ed7953\"],[0.7777777777777778,\"#fb9f3a\"],[0.8888888888888888,\"#fdca26\"],[1.0,\"#f0f921\"]]}],\"contourcarpet\":[{\"type\":\"contourcarpet\",\"colorbar\":{\"outlinewidth\":0,\"ticks\":\"\"}}],\"contour\":[{\"type\":\"contour\",\"colorbar\":{\"outlinewidth\":0,\"ticks\":\"\"},\"colorscale\":[[0.0,\"#0d0887\"],[0.1111111111111111,\"#46039f\"],[0.2222222222222222,\"#7201a8\"],[0.3333333333333333,\"#9c179e\"],[0.4444444444444444,\"#bd3786\"],[0.5555555555555556,\"#d8576b\"],[0.6666666666666666,\"#ed7953\"],[0.7777777777777778,\"#fb9f3a\"],[0.8888888888888888,\"#fdca26\"],[1.0,\"#f0f921\"]]}],\"surface\":[{\"type\":\"surface\",\"colorbar\":{\"outlinewidth\":0,\"ticks\":\"\"},\"colorscale\":[[0.0,\"#0d0887\"],[0.1111111111111111,\"#46039f\"],[0.2222222222222222,\"#7201a8\"],[0.3333333333333333,\"#9c179e\"],[0.4444444444444444,\"#bd3786\"],[0.5555555555555556,\"#d8576b\"],[0.6666666666666666,\"#ed7953\"],[0.7777777777777778,\"#fb9f3a\"],[0.8888888888888888,\"#fdca26\"],[1.0,\"#f0f921\"]]}],\"mesh3d\":[{\"type\":\"mesh3d\",\"colorbar\":{\"outlinewidth\":0,\"ticks\":\"\"}}],\"scatter\":[{\"fillpattern\":{\"fillmode\":\"overlay\",\"size\":10,\"solidity\":0.2},\"type\":\"scatter\"}],\"parcoords\":[{\"type\":\"parcoords\",\"line\":{\"colorbar\":{\"outlinewidth\":0,\"ticks\":\"\"}}}],\"scatterpolargl\":[{\"type\":\"scatterpolargl\",\"marker\":{\"colorbar\":{\"outlinewidth\":0,\"ticks\":\"\"}}}],\"bar\":[{\"error_x\":{\"color\":\"#2a3f5f\"},\"error_y\":{\"color\":\"#2a3f5f\"},\"marker\":{\"line\":{\"color\":\"#E5ECF6\",\"width\":0.5},\"pattern\":{\"fillmode\":\"overlay\",\"size\":10,\"solidity\":0.2}},\"type\":\"bar\"}],\"scattergeo\":[{\"type\":\"scattergeo\",\"marker\":{\"colorbar\":{\"outlinewidth\":0,\"ticks\":\"\"}}}],\"scatterpolar\":[{\"type\":\"scatterpolar\",\"marker\":{\"colorbar\":{\"outlinewidth\":0,\"ticks\":\"\"}}}],\"histogram\":[{\"marker\":{\"pattern\":{\"fillmode\":\"overlay\",\"size\":10,\"solidity\":0.2}},\"type\":\"histogram\"}],\"scattergl\":[{\"type\":\"scattergl\",\"marker\":{\"colorbar\":{\"outlinewidth\":0,\"ticks\":\"\"}}}],\"scatter3d\":[{\"type\":\"scatter3d\",\"line\":{\"colorbar\":{\"outlinewidth\":0,\"ticks\":\"\"}},\"marker\":{\"colorbar\":{\"outlinewidth\":0,\"ticks\":\"\"}}}],\"scattermapbox\":[{\"type\":\"scattermapbox\",\"marker\":{\"colorbar\":{\"outlinewidth\":0,\"ticks\":\"\"}}}],\"scatterternary\":[{\"type\":\"scatterternary\",\"marker\":{\"colorbar\":{\"outlinewidth\":0,\"ticks\":\"\"}}}],\"scattercarpet\":[{\"type\":\"scattercarpet\",\"marker\":{\"colorbar\":{\"outlinewidth\":0,\"ticks\":\"\"}}}],\"carpet\":[{\"aaxis\":{\"endlinecolor\":\"#2a3f5f\",\"gridcolor\":\"white\",\"linecolor\":\"white\",\"minorgridcolor\":\"white\",\"startlinecolor\":\"#2a3f5f\"},\"baxis\":{\"endlinecolor\":\"#2a3f5f\",\"gridcolor\":\"white\",\"linecolor\":\"white\",\"minorgridcolor\":\"white\",\"startlinecolor\":\"#2a3f5f\"},\"type\":\"carpet\"}],\"table\":[{\"cells\":{\"fill\":{\"color\":\"#EBF0F8\"},\"line\":{\"color\":\"white\"}},\"header\":{\"fill\":{\"color\":\"#C8D4E3\"},\"line\":{\"color\":\"white\"}},\"type\":\"table\"}],\"barpolar\":[{\"marker\":{\"line\":{\"color\":\"#E5ECF6\",\"width\":0.5},\"pattern\":{\"fillmode\":\"overlay\",\"size\":10,\"solidity\":0.2}},\"type\":\"barpolar\"}],\"pie\":[{\"automargin\":true,\"type\":\"pie\"}]},\"layout\":{\"autotypenumbers\":\"strict\",\"colorway\":[\"#636efa\",\"#EF553B\",\"#00cc96\",\"#ab63fa\",\"#FFA15A\",\"#19d3f3\",\"#FF6692\",\"#B6E880\",\"#FF97FF\",\"#FECB52\"],\"font\":{\"color\":\"#2a3f5f\"},\"hovermode\":\"closest\",\"hoverlabel\":{\"align\":\"left\"},\"paper_bgcolor\":\"white\",\"plot_bgcolor\":\"#E5ECF6\",\"polar\":{\"bgcolor\":\"#E5ECF6\",\"angularaxis\":{\"gridcolor\":\"white\",\"linecolor\":\"white\",\"ticks\":\"\"},\"radialaxis\":{\"gridcolor\":\"white\",\"linecolor\":\"white\",\"ticks\":\"\"}},\"ternary\":{\"bgcolor\":\"#E5ECF6\",\"aaxis\":{\"gridcolor\":\"white\",\"linecolor\":\"white\",\"ticks\":\"\"},\"baxis\":{\"gridcolor\":\"white\",\"linecolor\":\"white\",\"ticks\":\"\"},\"caxis\":{\"gridcolor\":\"white\",\"linecolor\":\"white\",\"ticks\":\"\"}},\"coloraxis\":{\"colorbar\":{\"outlinewidth\":0,\"ticks\":\"\"}},\"colorscale\":{\"sequential\":[[0.0,\"#0d0887\"],[0.1111111111111111,\"#46039f\"],[0.2222222222222222,\"#7201a8\"],[0.3333333333333333,\"#9c179e\"],[0.4444444444444444,\"#bd3786\"],[0.5555555555555556,\"#d8576b\"],[0.6666666666666666,\"#ed7953\"],[0.7777777777777778,\"#fb9f3a\"],[0.8888888888888888,\"#fdca26\"],[1.0,\"#f0f921\"]],\"sequentialminus\":[[0.0,\"#0d0887\"],[0.1111111111111111,\"#46039f\"],[0.2222222222222222,\"#7201a8\"],[0.3333333333333333,\"#9c179e\"],[0.4444444444444444,\"#bd3786\"],[0.5555555555555556,\"#d8576b\"],[0.6666666666666666,\"#ed7953\"],[0.7777777777777778,\"#fb9f3a\"],[0.8888888888888888,\"#fdca26\"],[1.0,\"#f0f921\"]],\"diverging\":[[0,\"#8e0152\"],[0.1,\"#c51b7d\"],[0.2,\"#de77ae\"],[0.3,\"#f1b6da\"],[0.4,\"#fde0ef\"],[0.5,\"#f7f7f7\"],[0.6,\"#e6f5d0\"],[0.7,\"#b8e186\"],[0.8,\"#7fbc41\"],[0.9,\"#4d9221\"],[1,\"#276419\"]]},\"xaxis\":{\"gridcolor\":\"white\",\"linecolor\":\"white\",\"ticks\":\"\",\"title\":{\"standoff\":15},\"zerolinecolor\":\"white\",\"automargin\":true,\"zerolinewidth\":2},\"yaxis\":{\"gridcolor\":\"white\",\"linecolor\":\"white\",\"ticks\":\"\",\"title\":{\"standoff\":15},\"zerolinecolor\":\"white\",\"automargin\":true,\"zerolinewidth\":2},\"scene\":{\"xaxis\":{\"backgroundcolor\":\"#E5ECF6\",\"gridcolor\":\"white\",\"linecolor\":\"white\",\"showbackground\":true,\"ticks\":\"\",\"zerolinecolor\":\"white\",\"gridwidth\":2},\"yaxis\":{\"backgroundcolor\":\"#E5ECF6\",\"gridcolor\":\"white\",\"linecolor\":\"white\",\"showbackground\":true,\"ticks\":\"\",\"zerolinecolor\":\"white\",\"gridwidth\":2},\"zaxis\":{\"backgroundcolor\":\"#E5ECF6\",\"gridcolor\":\"white\",\"linecolor\":\"white\",\"showbackground\":true,\"ticks\":\"\",\"zerolinecolor\":\"white\",\"gridwidth\":2}},\"shapedefaults\":{\"line\":{\"color\":\"#2a3f5f\"}},\"annotationdefaults\":{\"arrowcolor\":\"#2a3f5f\",\"arrowhead\":0,\"arrowwidth\":1},\"geo\":{\"bgcolor\":\"white\",\"landcolor\":\"#E5ECF6\",\"subunitcolor\":\"white\",\"showland\":true,\"showlakes\":true,\"lakecolor\":\"white\"},\"title\":{\"x\":0.05},\"mapbox\":{\"style\":\"light\"}}},\"legend\":{\"tracegroupgap\":0},\"title\":{\"text\":\"Total Count of Tags\"}},                        {\"responsive\": true}                    ).then(function(){\n",
              "                            \n",
              "var gd = document.getElementById('1a03d594-4a0e-476d-a0f7-3046edf807c9');\n",
              "var x = new MutationObserver(function (mutations, observer) {{\n",
              "        var display = window.getComputedStyle(gd).display;\n",
              "        if (!display || display === 'none') {{\n",
              "            console.log([gd, 'removed!']);\n",
              "            Plotly.purge(gd);\n",
              "            observer.disconnect();\n",
              "        }}\n",
              "}});\n",
              "\n",
              "// Listen for the removal of the full notebook cells\n",
              "var notebookContainer = gd.closest('#notebook-container');\n",
              "if (notebookContainer) {{\n",
              "    x.observe(notebookContainer, {childList: true});\n",
              "}}\n",
              "\n",
              "// Listen for the clearing of the current output cell\n",
              "var outputEl = gd.closest('.output');\n",
              "if (outputEl) {{\n",
              "    x.observe(outputEl, {childList: true});\n",
              "}}\n",
              "\n",
              "                        })                };                });            </script>        </div>"
            ]
          },
          "metadata": {},
          "output_type": "display_data"
        }
      ],
      "source": [
        "pie = dataframe['Tag'].value_counts()\n",
        "px.pie(names = pie.index,values= pie.values,hole = 0.5,title ='Total Count of Tags')"
      ]
    },
    {
      "cell_type": "code",
      "execution_count": null,
      "id": "723d6e92",
      "metadata": {
        "execution": {
          "iopub.execute_input": "2023-08-22T10:34:58.877552Z",
          "iopub.status.busy": "2023-08-22T10:34:58.876006Z",
          "iopub.status.idle": "2023-08-22T10:34:59.098492Z",
          "shell.execute_reply": "2023-08-22T10:34:59.097535Z"
        },
        "papermill": {
          "duration": 0.236973,
          "end_time": "2023-08-22T10:34:59.100688",
          "exception": false,
          "start_time": "2023-08-22T10:34:58.863715",
          "status": "completed"
        },
        "tags": [],
        "id": "723d6e92",
        "outputId": "42892c95-f6b9-419c-b86d-f6d4237b1a69"
      },
      "outputs": [
        {
          "data": {
            "text/html": [
              "<div>                            <div id=\"29d26e55-e2c7-4e69-bcc7-4a44babbe08d\" class=\"plotly-graph-div\" style=\"height:525px; width:100%;\"></div>            <script type=\"text/javascript\">                require([\"plotly\"], function(Plotly) {                    window.PLOTLYENV=window.PLOTLYENV || {};                                    if (document.getElementById(\"29d26e55-e2c7-4e69-bcc7-4a44babbe08d\")) {                    Plotly.newPlot(                        \"29d26e55-e2c7-4e69-bcc7-4a44babbe08d\",                        [{\"alignmentgroup\":\"True\",\"hovertemplate\":\"color=DT<br>x=%{x}<br>y=%{y}<extra></extra>\",\"legendgroup\":\"DT\",\"marker\":{\"color\":\"#636efa\",\"pattern\":{\"shape\":\"\"}},\"name\":\"DT\",\"offsetgroup\":\"DT\",\"orientation\":\"v\",\"showlegend\":true,\"textposition\":\"auto\",\"x\":[\"DT\"],\"xaxis\":\"x\",\"y\":[14806],\"yaxis\":\"y\",\"type\":\"bar\"},{\"alignmentgroup\":\"True\",\"hovertemplate\":\"color=NNP<br>x=%{x}<br>y=%{y}<extra></extra>\",\"legendgroup\":\"NNP\",\"marker\":{\"color\":\"#EF553B\",\"pattern\":{\"shape\":\"\"}},\"name\":\"NNP\",\"offsetgroup\":\"NNP\",\"orientation\":\"v\",\"showlegend\":true,\"textposition\":\"auto\",\"x\":[\"NNP\"],\"xaxis\":\"x\",\"y\":[11811],\"yaxis\":\"y\",\"type\":\"bar\"},{\"alignmentgroup\":\"True\",\"hovertemplate\":\"color=JJ<br>x=%{x}<br>y=%{y}<extra></extra>\",\"legendgroup\":\"JJ\",\"marker\":{\"color\":\"#00cc96\",\"pattern\":{\"shape\":\"\"}},\"name\":\"JJ\",\"offsetgroup\":\"JJ\",\"orientation\":\"v\",\"showlegend\":true,\"textposition\":\"auto\",\"x\":[\"JJ\"],\"xaxis\":\"x\",\"y\":[4442],\"yaxis\":\"y\",\"type\":\"bar\"},{\"alignmentgroup\":\"True\",\"hovertemplate\":\"color=NNS<br>x=%{x}<br>y=%{y}<extra></extra>\",\"legendgroup\":\"NNS\",\"marker\":{\"color\":\"#ab63fa\",\"pattern\":{\"shape\":\"\"}},\"name\":\"NNS\",\"offsetgroup\":\"NNS\",\"orientation\":\"v\",\"showlegend\":true,\"textposition\":\"auto\",\"x\":[\"NNS\"],\"xaxis\":\"x\",\"y\":[3865],\"yaxis\":\"y\",\"type\":\"bar\"},{\"alignmentgroup\":\"True\",\"hovertemplate\":\"color=IN<br>x=%{x}<br>y=%{y}<extra></extra>\",\"legendgroup\":\"IN\",\"marker\":{\"color\":\"#FFA15A\",\"pattern\":{\"shape\":\"\"}},\"name\":\"IN\",\"offsetgroup\":\"IN\",\"orientation\":\"v\",\"showlegend\":true,\"textposition\":\"auto\",\"x\":[\"IN\"],\"xaxis\":\"x\",\"y\":[3714],\"yaxis\":\"y\",\"type\":\"bar\"},{\"alignmentgroup\":\"True\",\"hovertemplate\":\"color=PRP<br>x=%{x}<br>y=%{y}<extra></extra>\",\"legendgroup\":\"PRP\",\"marker\":{\"color\":\"#19d3f3\",\"pattern\":{\"shape\":\"\"}},\"name\":\"PRP\",\"offsetgroup\":\"PRP\",\"orientation\":\"v\",\"showlegend\":true,\"textposition\":\"auto\",\"x\":[\"PRP\"],\"xaxis\":\"x\",\"y\":[3242],\"yaxis\":\"y\",\"type\":\"bar\"},{\"alignmentgroup\":\"True\",\"hovertemplate\":\"color=RB<br>x=%{x}<br>y=%{y}<extra></extra>\",\"legendgroup\":\"RB\",\"marker\":{\"color\":\"#FF6692\",\"pattern\":{\"shape\":\"\"}},\"name\":\"RB\",\"offsetgroup\":\"RB\",\"orientation\":\"v\",\"showlegend\":true,\"textposition\":\"auto\",\"x\":[\"RB\"],\"xaxis\":\"x\",\"y\":[1534],\"yaxis\":\"y\",\"type\":\"bar\"},{\"alignmentgroup\":\"True\",\"hovertemplate\":\"color=NN<br>x=%{x}<br>y=%{y}<extra></extra>\",\"legendgroup\":\"NN\",\"marker\":{\"color\":\"#B6E880\",\"pattern\":{\"shape\":\"\"}},\"name\":\"NN\",\"offsetgroup\":\"NN\",\"orientation\":\"v\",\"showlegend\":true,\"textposition\":\"auto\",\"x\":[\"NN\"],\"xaxis\":\"x\",\"y\":[1078],\"yaxis\":\"y\",\"type\":\"bar\"},{\"alignmentgroup\":\"True\",\"hovertemplate\":\"color=CC<br>x=%{x}<br>y=%{y}<extra></extra>\",\"legendgroup\":\"CC\",\"marker\":{\"color\":\"#FF97FF\",\"pattern\":{\"shape\":\"\"}},\"name\":\"CC\",\"offsetgroup\":\"CC\",\"orientation\":\"v\",\"showlegend\":true,\"textposition\":\"auto\",\"x\":[\"CC\"],\"xaxis\":\"x\",\"y\":[930],\"yaxis\":\"y\",\"type\":\"bar\"},{\"alignmentgroup\":\"True\",\"hovertemplate\":\"color=CD<br>x=%{x}<br>y=%{y}<extra></extra>\",\"legendgroup\":\"CD\",\"marker\":{\"color\":\"#FECB52\",\"pattern\":{\"shape\":\"\"}},\"name\":\"CD\",\"offsetgroup\":\"CD\",\"orientation\":\"v\",\"showlegend\":true,\"textposition\":\"auto\",\"x\":[\"CD\"],\"xaxis\":\"x\",\"y\":[648],\"yaxis\":\"y\",\"type\":\"bar\"},{\"alignmentgroup\":\"True\",\"hovertemplate\":\"color=VBG<br>x=%{x}<br>y=%{y}<extra></extra>\",\"legendgroup\":\"VBG\",\"marker\":{\"color\":\"#636efa\",\"pattern\":{\"shape\":\"\"}},\"name\":\"VBG\",\"offsetgroup\":\"VBG\",\"orientation\":\"v\",\"showlegend\":true,\"textposition\":\"auto\",\"x\":[\"VBG\"],\"xaxis\":\"x\",\"y\":[459],\"yaxis\":\"y\",\"type\":\"bar\"},{\"alignmentgroup\":\"True\",\"hovertemplate\":\"color=PRP$<br>x=%{x}<br>y=%{y}<extra></extra>\",\"legendgroup\":\"PRP$\",\"marker\":{\"color\":\"#EF553B\",\"pattern\":{\"shape\":\"\"}},\"name\":\"PRP$\",\"offsetgroup\":\"PRP$\",\"orientation\":\"v\",\"showlegend\":true,\"textposition\":\"auto\",\"x\":[\"PRP$\"],\"xaxis\":\"x\",\"y\":[273],\"yaxis\":\"y\",\"type\":\"bar\"},{\"alignmentgroup\":\"True\",\"hovertemplate\":\"color=EX<br>x=%{x}<br>y=%{y}<extra></extra>\",\"legendgroup\":\"EX\",\"marker\":{\"color\":\"#00cc96\",\"pattern\":{\"shape\":\"\"}},\"name\":\"EX\",\"offsetgroup\":\"EX\",\"orientation\":\"v\",\"showlegend\":true,\"textposition\":\"auto\",\"x\":[\"EX\"],\"xaxis\":\"x\",\"y\":[230],\"yaxis\":\"y\",\"type\":\"bar\"},{\"alignmentgroup\":\"True\",\"hovertemplate\":\"color=RBR<br>x=%{x}<br>y=%{y}<extra></extra>\",\"legendgroup\":\"RBR\",\"marker\":{\"color\":\"#ab63fa\",\"pattern\":{\"shape\":\"\"}},\"name\":\"RBR\",\"offsetgroup\":\"RBR\",\"orientation\":\"v\",\"showlegend\":true,\"textposition\":\"auto\",\"x\":[\"RBR\"],\"xaxis\":\"x\",\"y\":[222],\"yaxis\":\"y\",\"type\":\"bar\"},{\"alignmentgroup\":\"True\",\"hovertemplate\":\"color=JJR<br>x=%{x}<br>y=%{y}<extra></extra>\",\"legendgroup\":\"JJR\",\"marker\":{\"color\":\"#FFA15A\",\"pattern\":{\"shape\":\"\"}},\"name\":\"JJR\",\"offsetgroup\":\"JJR\",\"orientation\":\"v\",\"showlegend\":true,\"textposition\":\"auto\",\"x\":[\"JJR\"],\"xaxis\":\"x\",\"y\":[210],\"yaxis\":\"y\",\"type\":\"bar\"},{\"alignmentgroup\":\"True\",\"hovertemplate\":\"color=VBN<br>x=%{x}<br>y=%{y}<extra></extra>\",\"legendgroup\":\"VBN\",\"marker\":{\"color\":\"#19d3f3\",\"pattern\":{\"shape\":\"\"}},\"name\":\"VBN\",\"offsetgroup\":\"VBN\",\"orientation\":\"v\",\"showlegend\":true,\"textposition\":\"auto\",\"x\":[\"VBN\"],\"xaxis\":\"x\",\"y\":[134],\"yaxis\":\"y\",\"type\":\"bar\"},{\"alignmentgroup\":\"True\",\"hovertemplate\":\"color=``<br>x=%{x}<br>y=%{y}<extra></extra>\",\"legendgroup\":\"``\",\"marker\":{\"color\":\"#FF6692\",\"pattern\":{\"shape\":\"\"}},\"name\":\"``\",\"offsetgroup\":\"``\",\"orientation\":\"v\",\"showlegend\":true,\"textposition\":\"auto\",\"x\":[\"``\"],\"xaxis\":\"x\",\"y\":[114],\"yaxis\":\"y\",\"type\":\"bar\"},{\"alignmentgroup\":\"True\",\"hovertemplate\":\"color=JJS<br>x=%{x}<br>y=%{y}<extra></extra>\",\"legendgroup\":\"JJS\",\"marker\":{\"color\":\"#B6E880\",\"pattern\":{\"shape\":\"\"}},\"name\":\"JJS\",\"offsetgroup\":\"JJS\",\"orientation\":\"v\",\"showlegend\":true,\"textposition\":\"auto\",\"x\":[\"JJS\"],\"xaxis\":\"x\",\"y\":[89],\"yaxis\":\"y\",\"type\":\"bar\"},{\"alignmentgroup\":\"True\",\"hovertemplate\":\"color=WRB<br>x=%{x}<br>y=%{y}<extra></extra>\",\"legendgroup\":\"WRB\",\"marker\":{\"color\":\"#FF97FF\",\"pattern\":{\"shape\":\"\"}},\"name\":\"WRB\",\"offsetgroup\":\"WRB\",\"orientation\":\"v\",\"showlegend\":true,\"textposition\":\"auto\",\"x\":[\"WRB\"],\"xaxis\":\"x\",\"y\":[64],\"yaxis\":\"y\",\"type\":\"bar\"},{\"alignmentgroup\":\"True\",\"hovertemplate\":\"color=NNPS<br>x=%{x}<br>y=%{y}<extra></extra>\",\"legendgroup\":\"NNPS\",\"marker\":{\"color\":\"#FECB52\",\"pattern\":{\"shape\":\"\"}},\"name\":\"NNPS\",\"offsetgroup\":\"NNPS\",\"orientation\":\"v\",\"showlegend\":true,\"textposition\":\"auto\",\"x\":[\"NNPS\"],\"xaxis\":\"x\",\"y\":[32],\"yaxis\":\"y\",\"type\":\"bar\"},{\"alignmentgroup\":\"True\",\"hovertemplate\":\"color=TO<br>x=%{x}<br>y=%{y}<extra></extra>\",\"legendgroup\":\"TO\",\"marker\":{\"color\":\"#636efa\",\"pattern\":{\"shape\":\"\"}},\"name\":\"TO\",\"offsetgroup\":\"TO\",\"orientation\":\"v\",\"showlegend\":true,\"textposition\":\"auto\",\"x\":[\"TO\"],\"xaxis\":\"x\",\"y\":[31],\"yaxis\":\"y\",\"type\":\"bar\"},{\"alignmentgroup\":\"True\",\"hovertemplate\":\"color=VB<br>x=%{x}<br>y=%{y}<extra></extra>\",\"legendgroup\":\"VB\",\"marker\":{\"color\":\"#EF553B\",\"pattern\":{\"shape\":\"\"}},\"name\":\"VB\",\"offsetgroup\":\"VB\",\"orientation\":\"v\",\"showlegend\":true,\"textposition\":\"auto\",\"x\":[\"VB\"],\"xaxis\":\"x\",\"y\":[10],\"yaxis\":\"y\",\"type\":\"bar\"},{\"alignmentgroup\":\"True\",\"hovertemplate\":\"color=WP<br>x=%{x}<br>y=%{y}<extra></extra>\",\"legendgroup\":\"WP\",\"marker\":{\"color\":\"#00cc96\",\"pattern\":{\"shape\":\"\"}},\"name\":\"WP\",\"offsetgroup\":\"WP\",\"orientation\":\"v\",\"showlegend\":true,\"textposition\":\"auto\",\"x\":[\"WP\"],\"xaxis\":\"x\",\"y\":[7],\"yaxis\":\"y\",\"type\":\"bar\"},{\"alignmentgroup\":\"True\",\"hovertemplate\":\"color=PDT<br>x=%{x}<br>y=%{y}<extra></extra>\",\"legendgroup\":\"PDT\",\"marker\":{\"color\":\"#ab63fa\",\"pattern\":{\"shape\":\"\"}},\"name\":\"PDT\",\"offsetgroup\":\"PDT\",\"orientation\":\"v\",\"showlegend\":true,\"textposition\":\"auto\",\"x\":[\"PDT\"],\"xaxis\":\"x\",\"y\":[3],\"yaxis\":\"y\",\"type\":\"bar\"},{\"alignmentgroup\":\"True\",\"hovertemplate\":\"color=:<br>x=%{x}<br>y=%{y}<extra></extra>\",\"legendgroup\":\":\",\"marker\":{\"color\":\"#FFA15A\",\"pattern\":{\"shape\":\"\"}},\"name\":\":\",\"offsetgroup\":\":\",\"orientation\":\"v\",\"showlegend\":true,\"textposition\":\"auto\",\"x\":[\":\"],\"xaxis\":\"x\",\"y\":[3],\"yaxis\":\"y\",\"type\":\"bar\"},{\"alignmentgroup\":\"True\",\"hovertemplate\":\"color=VBP<br>x=%{x}<br>y=%{y}<extra></extra>\",\"legendgroup\":\"VBP\",\"marker\":{\"color\":\"#19d3f3\",\"pattern\":{\"shape\":\"\"}},\"name\":\"VBP\",\"offsetgroup\":\"VBP\",\"orientation\":\"v\",\"showlegend\":true,\"textposition\":\"auto\",\"x\":[\"VBP\"],\"xaxis\":\"x\",\"y\":[2],\"yaxis\":\"y\",\"type\":\"bar\"},{\"alignmentgroup\":\"True\",\"hovertemplate\":\"color=WDT<br>x=%{x}<br>y=%{y}<extra></extra>\",\"legendgroup\":\"WDT\",\"marker\":{\"color\":\"#FF6692\",\"pattern\":{\"shape\":\"\"}},\"name\":\"WDT\",\"offsetgroup\":\"WDT\",\"orientation\":\"v\",\"showlegend\":true,\"textposition\":\"auto\",\"x\":[\"WDT\"],\"xaxis\":\"x\",\"y\":[2],\"yaxis\":\"y\",\"type\":\"bar\"},{\"alignmentgroup\":\"True\",\"hovertemplate\":\"color=LRB<br>x=%{x}<br>y=%{y}<extra></extra>\",\"legendgroup\":\"LRB\",\"marker\":{\"color\":\"#B6E880\",\"pattern\":{\"shape\":\"\"}},\"name\":\"LRB\",\"offsetgroup\":\"LRB\",\"orientation\":\"v\",\"showlegend\":true,\"textposition\":\"auto\",\"x\":[\"LRB\"],\"xaxis\":\"x\",\"y\":[2],\"yaxis\":\"y\",\"type\":\"bar\"},{\"alignmentgroup\":\"True\",\"hovertemplate\":\"color=VBZ<br>x=%{x}<br>y=%{y}<extra></extra>\",\"legendgroup\":\"VBZ\",\"marker\":{\"color\":\"#FF97FF\",\"pattern\":{\"shape\":\"\"}},\"name\":\"VBZ\",\"offsetgroup\":\"VBZ\",\"orientation\":\"v\",\"showlegend\":true,\"textposition\":\"auto\",\"x\":[\"VBZ\"],\"xaxis\":\"x\",\"y\":[1],\"yaxis\":\"y\",\"type\":\"bar\"},{\"alignmentgroup\":\"True\",\"hovertemplate\":\"color=UH<br>x=%{x}<br>y=%{y}<extra></extra>\",\"legendgroup\":\"UH\",\"marker\":{\"color\":\"#FECB52\",\"pattern\":{\"shape\":\"\"}},\"name\":\"UH\",\"offsetgroup\":\"UH\",\"orientation\":\"v\",\"showlegend\":true,\"textposition\":\"auto\",\"x\":[\"UH\"],\"xaxis\":\"x\",\"y\":[1],\"yaxis\":\"y\",\"type\":\"bar\"}],                        {\"template\":{\"data\":{\"histogram2dcontour\":[{\"type\":\"histogram2dcontour\",\"colorbar\":{\"outlinewidth\":0,\"ticks\":\"\"},\"colorscale\":[[0.0,\"#0d0887\"],[0.1111111111111111,\"#46039f\"],[0.2222222222222222,\"#7201a8\"],[0.3333333333333333,\"#9c179e\"],[0.4444444444444444,\"#bd3786\"],[0.5555555555555556,\"#d8576b\"],[0.6666666666666666,\"#ed7953\"],[0.7777777777777778,\"#fb9f3a\"],[0.8888888888888888,\"#fdca26\"],[1.0,\"#f0f921\"]]}],\"choropleth\":[{\"type\":\"choropleth\",\"colorbar\":{\"outlinewidth\":0,\"ticks\":\"\"}}],\"histogram2d\":[{\"type\":\"histogram2d\",\"colorbar\":{\"outlinewidth\":0,\"ticks\":\"\"},\"colorscale\":[[0.0,\"#0d0887\"],[0.1111111111111111,\"#46039f\"],[0.2222222222222222,\"#7201a8\"],[0.3333333333333333,\"#9c179e\"],[0.4444444444444444,\"#bd3786\"],[0.5555555555555556,\"#d8576b\"],[0.6666666666666666,\"#ed7953\"],[0.7777777777777778,\"#fb9f3a\"],[0.8888888888888888,\"#fdca26\"],[1.0,\"#f0f921\"]]}],\"heatmap\":[{\"type\":\"heatmap\",\"colorbar\":{\"outlinewidth\":0,\"ticks\":\"\"},\"colorscale\":[[0.0,\"#0d0887\"],[0.1111111111111111,\"#46039f\"],[0.2222222222222222,\"#7201a8\"],[0.3333333333333333,\"#9c179e\"],[0.4444444444444444,\"#bd3786\"],[0.5555555555555556,\"#d8576b\"],[0.6666666666666666,\"#ed7953\"],[0.7777777777777778,\"#fb9f3a\"],[0.8888888888888888,\"#fdca26\"],[1.0,\"#f0f921\"]]}],\"heatmapgl\":[{\"type\":\"heatmapgl\",\"colorbar\":{\"outlinewidth\":0,\"ticks\":\"\"},\"colorscale\":[[0.0,\"#0d0887\"],[0.1111111111111111,\"#46039f\"],[0.2222222222222222,\"#7201a8\"],[0.3333333333333333,\"#9c179e\"],[0.4444444444444444,\"#bd3786\"],[0.5555555555555556,\"#d8576b\"],[0.6666666666666666,\"#ed7953\"],[0.7777777777777778,\"#fb9f3a\"],[0.8888888888888888,\"#fdca26\"],[1.0,\"#f0f921\"]]}],\"contourcarpet\":[{\"type\":\"contourcarpet\",\"colorbar\":{\"outlinewidth\":0,\"ticks\":\"\"}}],\"contour\":[{\"type\":\"contour\",\"colorbar\":{\"outlinewidth\":0,\"ticks\":\"\"},\"colorscale\":[[0.0,\"#0d0887\"],[0.1111111111111111,\"#46039f\"],[0.2222222222222222,\"#7201a8\"],[0.3333333333333333,\"#9c179e\"],[0.4444444444444444,\"#bd3786\"],[0.5555555555555556,\"#d8576b\"],[0.6666666666666666,\"#ed7953\"],[0.7777777777777778,\"#fb9f3a\"],[0.8888888888888888,\"#fdca26\"],[1.0,\"#f0f921\"]]}],\"surface\":[{\"type\":\"surface\",\"colorbar\":{\"outlinewidth\":0,\"ticks\":\"\"},\"colorscale\":[[0.0,\"#0d0887\"],[0.1111111111111111,\"#46039f\"],[0.2222222222222222,\"#7201a8\"],[0.3333333333333333,\"#9c179e\"],[0.4444444444444444,\"#bd3786\"],[0.5555555555555556,\"#d8576b\"],[0.6666666666666666,\"#ed7953\"],[0.7777777777777778,\"#fb9f3a\"],[0.8888888888888888,\"#fdca26\"],[1.0,\"#f0f921\"]]}],\"mesh3d\":[{\"type\":\"mesh3d\",\"colorbar\":{\"outlinewidth\":0,\"ticks\":\"\"}}],\"scatter\":[{\"fillpattern\":{\"fillmode\":\"overlay\",\"size\":10,\"solidity\":0.2},\"type\":\"scatter\"}],\"parcoords\":[{\"type\":\"parcoords\",\"line\":{\"colorbar\":{\"outlinewidth\":0,\"ticks\":\"\"}}}],\"scatterpolargl\":[{\"type\":\"scatterpolargl\",\"marker\":{\"colorbar\":{\"outlinewidth\":0,\"ticks\":\"\"}}}],\"bar\":[{\"error_x\":{\"color\":\"#2a3f5f\"},\"error_y\":{\"color\":\"#2a3f5f\"},\"marker\":{\"line\":{\"color\":\"#E5ECF6\",\"width\":0.5},\"pattern\":{\"fillmode\":\"overlay\",\"size\":10,\"solidity\":0.2}},\"type\":\"bar\"}],\"scattergeo\":[{\"type\":\"scattergeo\",\"marker\":{\"colorbar\":{\"outlinewidth\":0,\"ticks\":\"\"}}}],\"scatterpolar\":[{\"type\":\"scatterpolar\",\"marker\":{\"colorbar\":{\"outlinewidth\":0,\"ticks\":\"\"}}}],\"histogram\":[{\"marker\":{\"pattern\":{\"fillmode\":\"overlay\",\"size\":10,\"solidity\":0.2}},\"type\":\"histogram\"}],\"scattergl\":[{\"type\":\"scattergl\",\"marker\":{\"colorbar\":{\"outlinewidth\":0,\"ticks\":\"\"}}}],\"scatter3d\":[{\"type\":\"scatter3d\",\"line\":{\"colorbar\":{\"outlinewidth\":0,\"ticks\":\"\"}},\"marker\":{\"colorbar\":{\"outlinewidth\":0,\"ticks\":\"\"}}}],\"scattermapbox\":[{\"type\":\"scattermapbox\",\"marker\":{\"colorbar\":{\"outlinewidth\":0,\"ticks\":\"\"}}}],\"scatterternary\":[{\"type\":\"scatterternary\",\"marker\":{\"colorbar\":{\"outlinewidth\":0,\"ticks\":\"\"}}}],\"scattercarpet\":[{\"type\":\"scattercarpet\",\"marker\":{\"colorbar\":{\"outlinewidth\":0,\"ticks\":\"\"}}}],\"carpet\":[{\"aaxis\":{\"endlinecolor\":\"#2a3f5f\",\"gridcolor\":\"white\",\"linecolor\":\"white\",\"minorgridcolor\":\"white\",\"startlinecolor\":\"#2a3f5f\"},\"baxis\":{\"endlinecolor\":\"#2a3f5f\",\"gridcolor\":\"white\",\"linecolor\":\"white\",\"minorgridcolor\":\"white\",\"startlinecolor\":\"#2a3f5f\"},\"type\":\"carpet\"}],\"table\":[{\"cells\":{\"fill\":{\"color\":\"#EBF0F8\"},\"line\":{\"color\":\"white\"}},\"header\":{\"fill\":{\"color\":\"#C8D4E3\"},\"line\":{\"color\":\"white\"}},\"type\":\"table\"}],\"barpolar\":[{\"marker\":{\"line\":{\"color\":\"#E5ECF6\",\"width\":0.5},\"pattern\":{\"fillmode\":\"overlay\",\"size\":10,\"solidity\":0.2}},\"type\":\"barpolar\"}],\"pie\":[{\"automargin\":true,\"type\":\"pie\"}]},\"layout\":{\"autotypenumbers\":\"strict\",\"colorway\":[\"#636efa\",\"#EF553B\",\"#00cc96\",\"#ab63fa\",\"#FFA15A\",\"#19d3f3\",\"#FF6692\",\"#B6E880\",\"#FF97FF\",\"#FECB52\"],\"font\":{\"color\":\"#2a3f5f\"},\"hovermode\":\"closest\",\"hoverlabel\":{\"align\":\"left\"},\"paper_bgcolor\":\"white\",\"plot_bgcolor\":\"#E5ECF6\",\"polar\":{\"bgcolor\":\"#E5ECF6\",\"angularaxis\":{\"gridcolor\":\"white\",\"linecolor\":\"white\",\"ticks\":\"\"},\"radialaxis\":{\"gridcolor\":\"white\",\"linecolor\":\"white\",\"ticks\":\"\"}},\"ternary\":{\"bgcolor\":\"#E5ECF6\",\"aaxis\":{\"gridcolor\":\"white\",\"linecolor\":\"white\",\"ticks\":\"\"},\"baxis\":{\"gridcolor\":\"white\",\"linecolor\":\"white\",\"ticks\":\"\"},\"caxis\":{\"gridcolor\":\"white\",\"linecolor\":\"white\",\"ticks\":\"\"}},\"coloraxis\":{\"colorbar\":{\"outlinewidth\":0,\"ticks\":\"\"}},\"colorscale\":{\"sequential\":[[0.0,\"#0d0887\"],[0.1111111111111111,\"#46039f\"],[0.2222222222222222,\"#7201a8\"],[0.3333333333333333,\"#9c179e\"],[0.4444444444444444,\"#bd3786\"],[0.5555555555555556,\"#d8576b\"],[0.6666666666666666,\"#ed7953\"],[0.7777777777777778,\"#fb9f3a\"],[0.8888888888888888,\"#fdca26\"],[1.0,\"#f0f921\"]],\"sequentialminus\":[[0.0,\"#0d0887\"],[0.1111111111111111,\"#46039f\"],[0.2222222222222222,\"#7201a8\"],[0.3333333333333333,\"#9c179e\"],[0.4444444444444444,\"#bd3786\"],[0.5555555555555556,\"#d8576b\"],[0.6666666666666666,\"#ed7953\"],[0.7777777777777778,\"#fb9f3a\"],[0.8888888888888888,\"#fdca26\"],[1.0,\"#f0f921\"]],\"diverging\":[[0,\"#8e0152\"],[0.1,\"#c51b7d\"],[0.2,\"#de77ae\"],[0.3,\"#f1b6da\"],[0.4,\"#fde0ef\"],[0.5,\"#f7f7f7\"],[0.6,\"#e6f5d0\"],[0.7,\"#b8e186\"],[0.8,\"#7fbc41\"],[0.9,\"#4d9221\"],[1,\"#276419\"]]},\"xaxis\":{\"gridcolor\":\"white\",\"linecolor\":\"white\",\"ticks\":\"\",\"title\":{\"standoff\":15},\"zerolinecolor\":\"white\",\"automargin\":true,\"zerolinewidth\":2},\"yaxis\":{\"gridcolor\":\"white\",\"linecolor\":\"white\",\"ticks\":\"\",\"title\":{\"standoff\":15},\"zerolinecolor\":\"white\",\"automargin\":true,\"zerolinewidth\":2},\"scene\":{\"xaxis\":{\"backgroundcolor\":\"#E5ECF6\",\"gridcolor\":\"white\",\"linecolor\":\"white\",\"showbackground\":true,\"ticks\":\"\",\"zerolinecolor\":\"white\",\"gridwidth\":2},\"yaxis\":{\"backgroundcolor\":\"#E5ECF6\",\"gridcolor\":\"white\",\"linecolor\":\"white\",\"showbackground\":true,\"ticks\":\"\",\"zerolinecolor\":\"white\",\"gridwidth\":2},\"zaxis\":{\"backgroundcolor\":\"#E5ECF6\",\"gridcolor\":\"white\",\"linecolor\":\"white\",\"showbackground\":true,\"ticks\":\"\",\"zerolinecolor\":\"white\",\"gridwidth\":2}},\"shapedefaults\":{\"line\":{\"color\":\"#2a3f5f\"}},\"annotationdefaults\":{\"arrowcolor\":\"#2a3f5f\",\"arrowhead\":0,\"arrowwidth\":1},\"geo\":{\"bgcolor\":\"white\",\"landcolor\":\"#E5ECF6\",\"subunitcolor\":\"white\",\"showland\":true,\"showlakes\":true,\"lakecolor\":\"white\"},\"title\":{\"x\":0.05},\"mapbox\":{\"style\":\"light\"}}},\"xaxis\":{\"anchor\":\"y\",\"domain\":[0.0,1.0],\"title\":{\"text\":\"x\"}},\"yaxis\":{\"anchor\":\"x\",\"domain\":[0.0,1.0],\"title\":{\"text\":\"y\"}},\"legend\":{\"title\":{\"text\":\"color\"},\"tracegroupgap\":0},\"title\":{\"text\":\"Total Count of Parts of Speech\"},\"barmode\":\"relative\"},                        {\"responsive\": true}                    ).then(function(){\n",
              "                            \n",
              "var gd = document.getElementById('29d26e55-e2c7-4e69-bcc7-4a44babbe08d');\n",
              "var x = new MutationObserver(function (mutations, observer) {{\n",
              "        var display = window.getComputedStyle(gd).display;\n",
              "        if (!display || display === 'none') {{\n",
              "            console.log([gd, 'removed!']);\n",
              "            Plotly.purge(gd);\n",
              "            observer.disconnect();\n",
              "        }}\n",
              "}});\n",
              "\n",
              "// Listen for the removal of the full notebook cells\n",
              "var notebookContainer = gd.closest('#notebook-container');\n",
              "if (notebookContainer) {{\n",
              "    x.observe(notebookContainer, {childList: true});\n",
              "}}\n",
              "\n",
              "// Listen for the clearing of the current output cell\n",
              "var outputEl = gd.closest('.output');\n",
              "if (outputEl) {{\n",
              "    x.observe(outputEl, {childList: true});\n",
              "}}\n",
              "\n",
              "                        })                };                });            </script>        </div>"
            ]
          },
          "metadata": {},
          "output_type": "display_data"
        }
      ],
      "source": [
        "bar = dataframe['POS'].value_counts()\n",
        "px.bar(x = bar.index,y = bar.values,title = \"Total Count of Parts of Speech\",color = bar.index)"
      ]
    },
    {
      "cell_type": "markdown",
      "id": "9d44cd17",
      "metadata": {
        "papermill": {
          "duration": 0.011863,
          "end_time": "2023-08-22T10:34:59.124568",
          "exception": false,
          "start_time": "2023-08-22T10:34:59.112705",
          "status": "completed"
        },
        "tags": [],
        "id": "9d44cd17"
      },
      "source": [
        "## **5. Grouping, Tokenizing and Padding**"
      ]
    },
    {
      "cell_type": "code",
      "execution_count": null,
      "id": "26a5812c",
      "metadata": {
        "execution": {
          "iopub.execute_input": "2023-08-22T10:34:59.150146Z",
          "iopub.status.busy": "2023-08-22T10:34:59.148773Z",
          "iopub.status.idle": "2023-08-22T10:35:02.618147Z",
          "shell.execute_reply": "2023-08-22T10:35:02.617099Z"
        },
        "papermill": {
          "duration": 3.484744,
          "end_time": "2023-08-22T10:35:02.621041",
          "exception": false,
          "start_time": "2023-08-22T10:34:59.136297",
          "status": "completed"
        },
        "tags": [],
        "id": "26a5812c"
      },
      "outputs": [],
      "source": [
        "dataframe[\"Sentence #\"] = dataframe[\"Sentence #\"].fillna(method=\"ffill\")\n",
        "sentence = dataframe.groupby(\"Sentence #\")[\"Word\"].apply(list).values\n",
        "pos = dataframe.groupby(by = 'Sentence #')['POS'].apply(list).values\n",
        "tag = dataframe.groupby(by = 'Sentence #')['Tag'].apply(list).values"
      ]
    },
    {
      "cell_type": "code",
      "execution_count": null,
      "id": "fcd1a68c",
      "metadata": {
        "execution": {
          "iopub.execute_input": "2023-08-22T10:35:02.646802Z",
          "iopub.status.busy": "2023-08-22T10:35:02.646381Z",
          "iopub.status.idle": "2023-08-22T10:35:08.194675Z",
          "shell.execute_reply": "2023-08-22T10:35:08.193609Z"
        },
        "papermill": {
          "duration": 5.564305,
          "end_time": "2023-08-22T10:35:08.197509",
          "exception": false,
          "start_time": "2023-08-22T10:35:02.633204",
          "status": "completed"
        },
        "tags": [],
        "id": "fcd1a68c"
      },
      "outputs": [],
      "source": [
        "def process_data(data_path):\n",
        "    df = pd.read_csv(data_path, encoding=\"latin-1\")\n",
        "    df.loc[:, \"Sentence #\"] = df[\"Sentence #\"].fillna(method=\"ffill\")\n",
        "\n",
        "    enc_pos = preprocessing.LabelEncoder()\n",
        "    enc_tag = preprocessing.LabelEncoder()\n",
        "\n",
        "    df.loc[:, \"POS\"] = enc_pos.fit_transform(df[\"POS\"])\n",
        "    df.loc[:, \"Tag\"] = enc_tag.fit_transform(df[\"Tag\"])\n",
        "\n",
        "    sentences = df.groupby(\"Sentence #\")[\"Word\"].apply(list).values\n",
        "    pos = df.groupby(\"Sentence #\")[\"POS\"].apply(list).values\n",
        "    tag = df.groupby(\"Sentence #\")[\"Tag\"].apply(list).values\n",
        "    return sentences, pos, tag, enc_pos, enc_tag\n",
        "\n",
        "sentence,pos,tag,enc_pos,enc_tag = process_data(\"/kaggle/input/entity-annotated-corpus/ner_dataset.csv\")"
      ]
    },
    {
      "cell_type": "code",
      "execution_count": null,
      "id": "e3260e24",
      "metadata": {
        "execution": {
          "iopub.execute_input": "2023-08-22T10:35:08.222507Z",
          "iopub.status.busy": "2023-08-22T10:35:08.222190Z",
          "iopub.status.idle": "2023-08-22T10:35:10.394217Z",
          "shell.execute_reply": "2023-08-22T10:35:10.393249Z"
        },
        "papermill": {
          "duration": 2.187037,
          "end_time": "2023-08-22T10:35:10.396428",
          "exception": false,
          "start_time": "2023-08-22T10:35:08.209391",
          "status": "completed"
        },
        "tags": [],
        "colab": {
          "referenced_widgets": [
            "b7db3dff448e4590aff53798ec1cd881",
            "90782d2d6acd4f8dbbba27403106ba98",
            "97d27c6aa8534bbabe178b86193b4dcc",
            "6acf285cb27346f583a276edafbd0a7f"
          ]
        },
        "id": "e3260e24",
        "outputId": "7110aa94-b6d8-415a-9d8d-783b34fb340a"
      },
      "outputs": [
        {
          "data": {
            "application/vnd.jupyter.widget-view+json": {
              "model_id": "b7db3dff448e4590aff53798ec1cd881",
              "version_major": 2,
              "version_minor": 0
            },
            "text/plain": [
              "Downloading:   0%|          | 0.00/28.0 [00:00<?, ?B/s]"
            ]
          },
          "metadata": {},
          "output_type": "display_data"
        },
        {
          "data": {
            "application/vnd.jupyter.widget-view+json": {
              "model_id": "90782d2d6acd4f8dbbba27403106ba98",
              "version_major": 2,
              "version_minor": 0
            },
            "text/plain": [
              "Downloading:   0%|          | 0.00/226k [00:00<?, ?B/s]"
            ]
          },
          "metadata": {},
          "output_type": "display_data"
        },
        {
          "data": {
            "application/vnd.jupyter.widget-view+json": {
              "model_id": "97d27c6aa8534bbabe178b86193b4dcc",
              "version_major": 2,
              "version_minor": 0
            },
            "text/plain": [
              "Downloading:   0%|          | 0.00/455k [00:00<?, ?B/s]"
            ]
          },
          "metadata": {},
          "output_type": "display_data"
        },
        {
          "data": {
            "application/vnd.jupyter.widget-view+json": {
              "model_id": "6acf285cb27346f583a276edafbd0a7f",
              "version_major": 2,
              "version_minor": 0
            },
            "text/plain": [
              "Downloading:   0%|          | 0.00/570 [00:00<?, ?B/s]"
            ]
          },
          "metadata": {},
          "output_type": "display_data"
        }
      ],
      "source": [
        "tokenizer = BertTokenizerFast.from_pretrained('bert-base-uncased')\n",
        "MAX_LEN = 128\n",
        "def tokenize(data,max_len = MAX_LEN):\n",
        "    input_ids = list()\n",
        "    attention_mask = list()\n",
        "    for i in tqdm(range(len(data))):\n",
        "        encoded = tokenizer.encode_plus(data[i],\n",
        "                                        add_special_tokens = True,\n",
        "                                        max_length = MAX_LEN,\n",
        "                                        is_split_into_words=True,\n",
        "                                        return_attention_mask=True,\n",
        "                                        padding = 'max_length',\n",
        "                                        truncation=True,return_tensors = 'np')\n",
        "\n",
        "\n",
        "        input_ids.append(encoded['input_ids'])\n",
        "        attention_mask.append(encoded['attention_mask'])\n",
        "    return np.vstack(input_ids),np.vstack(attention_mask)"
      ]
    },
    {
      "cell_type": "markdown",
      "source": [
        "## **6. Train test split on Sentance And Tag**"
      ],
      "metadata": {
        "id": "bOU23T0BvTKj"
      },
      "id": "bOU23T0BvTKj"
    },
    {
      "cell_type": "code",
      "execution_count": null,
      "id": "46d0782c",
      "metadata": {
        "execution": {
          "iopub.execute_input": "2023-08-22T10:35:10.422533Z",
          "iopub.status.busy": "2023-08-22T10:35:10.421592Z",
          "iopub.status.idle": "2023-08-22T10:35:10.434956Z",
          "shell.execute_reply": "2023-08-22T10:35:10.433932Z"
        },
        "papermill": {
          "duration": 0.028373,
          "end_time": "2023-08-22T10:35:10.437173",
          "exception": false,
          "start_time": "2023-08-22T10:35:10.408800",
          "status": "completed"
        },
        "tags": [],
        "id": "46d0782c",
        "outputId": "eaba1fc0-607b-4df9-e86a-4a0a5f9d722e"
      },
      "outputs": [
        {
          "data": {
            "text/plain": [
              "((43163,), (4796,), (43163,), (4796,))"
            ]
          },
          "execution_count": 11,
          "metadata": {},
          "output_type": "execute_result"
        }
      ],
      "source": [
        "X_train,X_test,y_train,y_test = train_test_split(sentence,tag,random_state=42,test_size=0.1)\n",
        "X_train.shape,X_test.shape,y_train.shape,y_test.shape"
      ]
    },
    {
      "cell_type": "code",
      "execution_count": null,
      "id": "16616f14",
      "metadata": {
        "execution": {
          "iopub.execute_input": "2023-08-22T10:35:10.462476Z",
          "iopub.status.busy": "2023-08-22T10:35:10.462193Z",
          "iopub.status.idle": "2023-08-22T10:35:25.116929Z",
          "shell.execute_reply": "2023-08-22T10:35:25.115786Z"
        },
        "papermill": {
          "duration": 14.670836,
          "end_time": "2023-08-22T10:35:25.120049",
          "exception": false,
          "start_time": "2023-08-22T10:35:10.449213",
          "status": "completed"
        },
        "tags": [],
        "id": "16616f14",
        "outputId": "e363d959-e795-4522-d146-89741fd834d2"
      },
      "outputs": [
        {
          "name": "stderr",
          "output_type": "stream",
          "text": [
            "100%|██████████| 43163/43163 [00:14<00:00, 2979.61it/s]\n"
          ]
        }
      ],
      "source": [
        "input_ids,attention_mask = tokenize(X_train,max_len = MAX_LEN)"
      ]
    },
    {
      "cell_type": "code",
      "execution_count": null,
      "id": "10d1fe83",
      "metadata": {
        "execution": {
          "iopub.execute_input": "2023-08-22T10:35:25.168395Z",
          "iopub.status.busy": "2023-08-22T10:35:25.167465Z",
          "iopub.status.idle": "2023-08-22T10:35:26.643594Z",
          "shell.execute_reply": "2023-08-22T10:35:26.642439Z"
        },
        "papermill": {
          "duration": 1.502382,
          "end_time": "2023-08-22T10:35:26.646186",
          "exception": false,
          "start_time": "2023-08-22T10:35:25.143804",
          "status": "completed"
        },
        "tags": [],
        "id": "10d1fe83",
        "outputId": "3f0c5ae2-9215-4959-cb00-b8f5cbe62c7d"
      },
      "outputs": [
        {
          "name": "stderr",
          "output_type": "stream",
          "text": [
            "100%|██████████| 4796/4796 [00:01<00:00, 3300.13it/s]\n"
          ]
        }
      ],
      "source": [
        "val_input_ids,val_attention_mask = tokenize(X_test,max_len = MAX_LEN)"
      ]
    },
    {
      "cell_type": "markdown",
      "id": "e961c430",
      "metadata": {
        "papermill": {
          "duration": 0.023843,
          "end_time": "2023-08-22T10:35:26.693592",
          "exception": false,
          "start_time": "2023-08-22T10:35:26.669749",
          "status": "completed"
        },
        "tags": [],
        "id": "e961c430"
      },
      "source": [
        "## **7. Testing Padding and Truncation Length**"
      ]
    },
    {
      "cell_type": "code",
      "execution_count": null,
      "id": "69968c60",
      "metadata": {
        "execution": {
          "iopub.execute_input": "2023-08-22T10:35:26.744054Z",
          "iopub.status.busy": "2023-08-22T10:35:26.743050Z",
          "iopub.status.idle": "2023-08-22T10:35:26.773292Z",
          "shell.execute_reply": "2023-08-22T10:35:26.772240Z"
        },
        "papermill": {
          "duration": 0.058552,
          "end_time": "2023-08-22T10:35:26.775482",
          "exception": false,
          "start_time": "2023-08-22T10:35:26.716930",
          "status": "completed"
        },
        "tags": [],
        "id": "69968c60",
        "outputId": "6c1c8af6-0327-45fb-8a15-8cf6f0ef73bd"
      },
      "outputs": [
        {
          "data": {
            "text/plain": [
              "{128}"
            ]
          },
          "execution_count": 14,
          "metadata": {},
          "output_type": "execute_result"
        }
      ],
      "source": [
        "# TEST: Checking Padding and Truncation length's\n",
        "was = list()\n",
        "for i in range(len(input_ids)):\n",
        "    was.append(len(input_ids[i]))\n",
        "set(was)"
      ]
    },
    {
      "cell_type": "code",
      "execution_count": null,
      "id": "810683be",
      "metadata": {
        "execution": {
          "iopub.execute_input": "2023-08-22T10:35:26.824423Z",
          "iopub.status.busy": "2023-08-22T10:35:26.824113Z",
          "iopub.status.idle": "2023-08-22T10:35:26.925903Z",
          "shell.execute_reply": "2023-08-22T10:35:26.924769Z"
        },
        "papermill": {
          "duration": 0.12897,
          "end_time": "2023-08-22T10:35:26.928270",
          "exception": false,
          "start_time": "2023-08-22T10:35:26.799300",
          "status": "completed"
        },
        "tags": [],
        "id": "810683be",
        "outputId": "8dd21183-2e4f-4728-d80e-478068a78779"
      },
      "outputs": [
        {
          "data": {
            "text/plain": [
              "{128}"
            ]
          },
          "execution_count": 15,
          "metadata": {},
          "output_type": "execute_result"
        }
      ],
      "source": [
        "# Train Padding\n",
        "test_tag = list()\n",
        "for i in range(len(y_test)):\n",
        "    test_tag.append(np.array(y_test[i] + [0] * (128-len(y_test[i]))))\n",
        "\n",
        "# TEST:  Checking Padding Length\n",
        "was = list()\n",
        "for i in range(len(test_tag)):\n",
        "    was.append(len(test_tag[i]))\n",
        "set(was)"
      ]
    },
    {
      "cell_type": "code",
      "execution_count": null,
      "id": "1de2fdaf",
      "metadata": {
        "execution": {
          "iopub.execute_input": "2023-08-22T10:35:26.978887Z",
          "iopub.status.busy": "2023-08-22T10:35:26.977186Z",
          "iopub.status.idle": "2023-08-22T10:35:27.822950Z",
          "shell.execute_reply": "2023-08-22T10:35:27.821833Z"
        },
        "papermill": {
          "duration": 0.873161,
          "end_time": "2023-08-22T10:35:27.825463",
          "exception": false,
          "start_time": "2023-08-22T10:35:26.952302",
          "status": "completed"
        },
        "tags": [],
        "id": "1de2fdaf",
        "outputId": "6ba56152-5bca-4f99-f87d-0ae82feff62d"
      },
      "outputs": [
        {
          "data": {
            "text/plain": [
              "{128}"
            ]
          },
          "execution_count": 16,
          "metadata": {},
          "output_type": "execute_result"
        }
      ],
      "source": [
        "# Train Padding\n",
        "train_tag = list()\n",
        "for i in range(len(y_train)):\n",
        "    train_tag.append(np.array(y_train[i] + [0] * (128-len(y_train[i]))))\n",
        "\n",
        "# TEST:  Checking Padding Length\n",
        "was = list()\n",
        "for i in range(len(train_tag)):\n",
        "    was.append(len(train_tag[i]))\n",
        "set(was)"
      ]
    },
    {
      "cell_type": "markdown",
      "id": "15f25bd5",
      "metadata": {
        "papermill": {
          "duration": 0.023345,
          "end_time": "2023-08-22T10:35:27.873201",
          "exception": false,
          "start_time": "2023-08-22T10:35:27.849856",
          "status": "completed"
        },
        "tags": [],
        "id": "15f25bd5"
      },
      "source": [
        "## **8. Building BERT Model : Transfer Learning**"
      ]
    },
    {
      "cell_type": "code",
      "execution_count": null,
      "id": "5c41008d",
      "metadata": {
        "execution": {
          "iopub.execute_input": "2023-08-22T10:35:27.922341Z",
          "iopub.status.busy": "2023-08-22T10:35:27.921382Z",
          "iopub.status.idle": "2023-08-22T10:35:27.930249Z",
          "shell.execute_reply": "2023-08-22T10:35:27.929310Z"
        },
        "papermill": {
          "duration": 0.035733,
          "end_time": "2023-08-22T10:35:27.932474",
          "exception": false,
          "start_time": "2023-08-22T10:35:27.896741",
          "status": "completed"
        },
        "tags": [],
        "id": "5c41008d"
      },
      "outputs": [],
      "source": [
        "# bert_model = TFBertModel.from_pretrained('bert-base-uncased')\n",
        "\n",
        "def create_model(bert_model,max_len = MAX_LEN):\n",
        "    input_ids = tf.keras.Input(shape = (max_len,),dtype = 'int32')\n",
        "    attention_masks = tf.keras.Input(shape = (max_len,),dtype = 'int32')\n",
        "    bert_output = bert_model(input_ids,attention_mask = attention_masks,return_dict =True)\n",
        "    embedding = tf.keras.layers.Dropout(0.3)(bert_output[\"last_hidden_state\"])\n",
        "    output = tf.keras.layers.Dense(17,activation = 'softmax')(embedding)\n",
        "    model = tf.keras.models.Model(inputs = [input_ids,attention_masks],outputs = [output])\n",
        "    model.compile(optimizer=tf.keras.optimizers.Adam(lr=0.00001), loss=\"sparse_categorical_crossentropy\", metrics=[\"accuracy\"])\n",
        "    return model"
      ]
    },
    {
      "cell_type": "code",
      "execution_count": null,
      "id": "f024e320",
      "metadata": {
        "_kg_hide-output": true,
        "execution": {
          "iopub.execute_input": "2023-08-22T10:35:27.981270Z",
          "iopub.status.busy": "2023-08-22T10:35:27.980967Z",
          "iopub.status.idle": "2023-08-22T10:35:53.905235Z",
          "shell.execute_reply": "2023-08-22T10:35:53.904204Z"
        },
        "papermill": {
          "duration": 25.951814,
          "end_time": "2023-08-22T10:35:53.908033",
          "exception": false,
          "start_time": "2023-08-22T10:35:27.956219",
          "status": "completed"
        },
        "tags": [],
        "colab": {
          "referenced_widgets": [
            "84ea990e790b4a8e8d189e5261a06b5d"
          ]
        },
        "id": "f024e320",
        "outputId": "b01dab7c-e623-4644-f73a-6e76342a74cd"
      },
      "outputs": [
        {
          "data": {
            "application/vnd.jupyter.widget-view+json": {
              "model_id": "84ea990e790b4a8e8d189e5261a06b5d",
              "version_major": 2,
              "version_minor": 0
            },
            "text/plain": [
              "Downloading:   0%|          | 0.00/511M [00:00<?, ?B/s]"
            ]
          },
          "metadata": {},
          "output_type": "display_data"
        },
        {
          "name": "stderr",
          "output_type": "stream",
          "text": [
            "Some layers from the model checkpoint at bert-base-uncased were not used when initializing TFBertModel: ['nsp___cls', 'mlm___cls']\n",
            "- This IS expected if you are initializing TFBertModel from the checkpoint of a model trained on another task or with another architecture (e.g. initializing a BertForSequenceClassification model from a BertForPreTraining model).\n",
            "- This IS NOT expected if you are initializing TFBertModel from the checkpoint of a model that you expect to be exactly identical (initializing a BertForSequenceClassification model from a BertForSequenceClassification model).\n",
            "All the layers of TFBertModel were initialized from the model checkpoint at bert-base-uncased.\n",
            "If your task is similar to the task the model of the checkpoint was trained on, you can already use TFBertModel for predictions without further training.\n",
            "/opt/conda/lib/python3.7/site-packages/keras/optimizer_v2/optimizer_v2.py:356: UserWarning:\n",
            "\n",
            "The `lr` argument is deprecated, use `learning_rate` instead.\n",
            "\n"
          ]
        }
      ],
      "source": [
        "# with strategy.scope():\n",
        "bert_model = TFBertModel.from_pretrained('bert-base-uncased')\n",
        "model = create_model(bert_model,MAX_LEN)"
      ]
    },
    {
      "cell_type": "code",
      "execution_count": null,
      "id": "17de9688",
      "metadata": {
        "execution": {
          "iopub.execute_input": "2023-08-22T10:35:53.961209Z",
          "iopub.status.busy": "2023-08-22T10:35:53.959752Z",
          "iopub.status.idle": "2023-08-22T10:35:53.984187Z",
          "shell.execute_reply": "2023-08-22T10:35:53.983012Z"
        },
        "papermill": {
          "duration": 0.053956,
          "end_time": "2023-08-22T10:35:53.987115",
          "exception": false,
          "start_time": "2023-08-22T10:35:53.933159",
          "status": "completed"
        },
        "tags": [],
        "id": "17de9688",
        "outputId": "92bb9b86-68a0-4f3e-dd66-30e2bf42b76f"
      },
      "outputs": [
        {
          "name": "stdout",
          "output_type": "stream",
          "text": [
            "Model: \"model\"\n",
            "__________________________________________________________________________________________________\n",
            "Layer (type)                    Output Shape         Param #     Connected to                     \n",
            "==================================================================================================\n",
            "input_1 (InputLayer)            [(None, 128)]        0                                            \n",
            "__________________________________________________________________________________________________\n",
            "input_2 (InputLayer)            [(None, 128)]        0                                            \n",
            "__________________________________________________________________________________________________\n",
            "tf_bert_model (TFBertModel)     TFBaseModelOutputWit 109482240   input_1[0][0]                    \n",
            "                                                                 input_2[0][0]                    \n",
            "__________________________________________________________________________________________________\n",
            "dropout_37 (Dropout)            (None, 128, 768)     0           tf_bert_model[0][0]              \n",
            "__________________________________________________________________________________________________\n",
            "dense (Dense)                   (None, 128, 17)      13073       dropout_37[0][0]                 \n",
            "==================================================================================================\n",
            "Total params: 109,495,313\n",
            "Trainable params: 109,495,313\n",
            "Non-trainable params: 0\n",
            "__________________________________________________________________________________________________\n"
          ]
        }
      ],
      "source": [
        "model.summary()"
      ]
    },
    {
      "cell_type": "code",
      "execution_count": null,
      "id": "51f1541a",
      "metadata": {
        "execution": {
          "iopub.execute_input": "2023-08-22T10:35:54.046074Z",
          "iopub.status.busy": "2023-08-22T10:35:54.045645Z",
          "iopub.status.idle": "2023-08-22T10:35:55.240034Z",
          "shell.execute_reply": "2023-08-22T10:35:55.238852Z"
        },
        "papermill": {
          "duration": 1.227984,
          "end_time": "2023-08-22T10:35:55.242531",
          "exception": false,
          "start_time": "2023-08-22T10:35:54.014547",
          "status": "completed"
        },
        "tags": [],
        "id": "51f1541a",
        "outputId": "665f754d-efb6-4cf5-8aff-20f9584119cd"
      },
      "outputs": [
        {
          "name": "stdout",
          "output_type": "stream",
          "text": [
            "huggingface/tokenizers: The current process just got forked, after parallelism has already been used. Disabling parallelism to avoid deadlocks...\n",
            "To disable this warning, you can either:\n",
            "\t- Avoid using `tokenizers` before the fork if possible\n",
            "\t- Explicitly set the environment variable TOKENIZERS_PARALLELISM=(true | false)\n",
            "huggingface/tokenizers: The current process just got forked, after parallelism has already been used. Disabling parallelism to avoid deadlocks...\n",
            "To disable this warning, you can either:\n",
            "\t- Avoid using `tokenizers` before the fork if possible\n",
            "\t- Explicitly set the environment variable TOKENIZERS_PARALLELISM=(true | false)\n"
          ]
        },
        {
          "data": {
            "image/png": "[encoded data removed]",
            "text/plain": [
              "<IPython.core.display.Image object>"
            ]
          },
          "execution_count": 20,
          "metadata": {},
          "output_type": "execute_result"
        }
      ],
      "source": [
        "tf.keras.utils.plot_model(model)"
      ]
    },
    {
      "cell_type": "markdown",
      "id": "3d02de4e",
      "metadata": {
        "papermill": {
          "duration": 0.025153,
          "end_time": "2023-08-22T10:35:55.293237",
          "exception": false,
          "start_time": "2023-08-22T10:35:55.268084",
          "status": "completed"
        },
        "tags": [],
        "id": "3d02de4e"
      },
      "source": [
        "## **9. Traning Model**"
      ]
    },
    {
      "cell_type": "code",
      "execution_count": null,
      "id": "18545d19",
      "metadata": {
        "execution": {
          "iopub.execute_input": "2023-08-22T10:35:55.346396Z",
          "iopub.status.busy": "2023-08-22T10:35:55.345997Z",
          "iopub.status.idle": "2023-08-22T10:54:28.047813Z",
          "shell.execute_reply": "2023-08-22T10:54:28.046711Z"
        },
        "papermill": {
          "duration": 1112.805791,
          "end_time": "2023-08-22T10:54:28.124925",
          "exception": false,
          "start_time": "2023-08-22T10:35:55.319134",
          "status": "completed"
        },
        "tags": [],
        "id": "18545d19",
        "outputId": "8ab0675c-8a23-4ef6-a2f6-899a66b51394"
      },
      "outputs": [
        {
          "name": "stdout",
          "output_type": "stream",
          "text": [
            "720/720 [==============================] - 1112s 2s/step - loss: 0.1578 - accuracy: 0.9572 - val_loss: 0.0686 - val_accuracy: 0.9789\n"
          ]
        }
      ],
      "source": [
        "early_stopping = EarlyStopping(mode='min',patience=5)\n",
        "history_bert = model.fit([input_ids,attention_mask],np.array(train_tag),validation_data = ([val_input_ids,val_attention_mask],np.array(test_tag)),epochs = 1,batch_size = 30*2,callbacks = early_stopping,verbose = True)"
      ]
    },
    {
      "cell_type": "code",
      "execution_count": null,
      "id": "71331c7a",
      "metadata": {
        "execution": {
          "iopub.execute_input": "2023-08-22T10:54:28.281622Z",
          "iopub.status.busy": "2023-08-22T10:54:28.281251Z",
          "iopub.status.idle": "2023-08-22T10:54:32.367716Z",
          "shell.execute_reply": "2023-08-22T10:54:32.365990Z"
        },
        "papermill": {
          "duration": 4.170054,
          "end_time": "2023-08-22T10:54:32.371855",
          "exception": false,
          "start_time": "2023-08-22T10:54:28.201801",
          "status": "completed"
        },
        "tags": [],
        "id": "71331c7a"
      },
      "outputs": [],
      "source": [
        "model.save_weights(\"ner_bert_weights\")"
      ]
    },
    {
      "cell_type": "markdown",
      "id": "e19db30c",
      "metadata": {
        "papermill": {
          "duration": 0.083503,
          "end_time": "2023-08-22T10:54:32.593465",
          "exception": false,
          "start_time": "2023-08-22T10:54:32.509962",
          "status": "completed"
        },
        "tags": [],
        "id": "e19db30c"
      },
      "source": [
        "## **10. visulization of model performance on train and validation data**"
      ]
    },
    {
      "cell_type": "code",
      "execution_count": null,
      "id": "3173bfb3",
      "metadata": {
        "execution": {
          "iopub.execute_input": "2023-08-22T10:54:32.813855Z",
          "iopub.status.busy": "2023-08-22T10:54:32.813485Z",
          "iopub.status.idle": "2023-08-22T10:54:33.105009Z",
          "shell.execute_reply": "2023-08-22T10:54:33.103828Z"
        },
        "papermill": {
          "duration": 0.432979,
          "end_time": "2023-08-22T10:54:33.107346",
          "exception": false,
          "start_time": "2023-08-22T10:54:32.674367",
          "status": "completed"
        },
        "tags": [],
        "id": "3173bfb3",
        "outputId": "ca5fef25-da65-4eba-d88d-50f4313e377d"
      },
      "outputs": [
        {
          "data": {
            "image/png": "[encoded data removed]",
            "text/plain": [
              "<Figure size 432x288 with 1 Axes>"
            ]
          },
          "metadata": {
            "needs_background": "light"
          },
          "output_type": "display_data"
        }
      ],
      "source": [
        "plt.plot(history_bert.history['accuracy'])\n",
        "plt.plot(history_bert.history['val_accuracy'])\n",
        "plt.title('model accuracy')\n",
        "plt.ylabel('accuracy')\n",
        "plt.xlabel('epoch')\n",
        "plt.legend(['train', 'test'], loc='upper left')\n",
        "plt.show()"
      ]
    },
    {
      "cell_type": "code",
      "execution_count": null,
      "id": "dc40e167",
      "metadata": {
        "execution": {
          "iopub.execute_input": "2023-08-22T10:54:33.316295Z",
          "iopub.status.busy": "2023-08-22T10:54:33.315907Z",
          "iopub.status.idle": "2023-08-22T10:54:33.544024Z",
          "shell.execute_reply": "2023-08-22T10:54:33.542939Z"
        },
        "papermill": {
          "duration": 0.354383,
          "end_time": "2023-08-22T10:54:33.546360",
          "exception": false,
          "start_time": "2023-08-22T10:54:33.191977",
          "status": "completed"
        },
        "tags": [],
        "id": "dc40e167",
        "outputId": "762ea001-90d3-4c8c-a6ee-627f231436b6"
      },
      "outputs": [
        {
          "data": {
            "image/png": "[encoded data removed]",
            "text/plain": [
              "<Figure size 432x288 with 1 Axes>"
            ]
          },
          "metadata": {
            "needs_background": "light"
          },
          "output_type": "display_data"
        }
      ],
      "source": [
        "plt.plot(history_bert.history['loss'])\n",
        "plt.plot(history_bert.history['val_loss'])\n",
        "plt.title('model loss')\n",
        "plt.ylabel('loss')\n",
        "plt.xlabel('epoch')\n",
        "plt.legend(['train', 'test'], loc='upper left')\n",
        "plt.show()"
      ]
    },
    {
      "cell_type": "markdown",
      "id": "d9b9e7c0",
      "metadata": {
        "papermill": {
          "duration": 0.083983,
          "end_time": "2023-08-22T10:54:33.712686",
          "exception": false,
          "start_time": "2023-08-22T10:54:33.628703",
          "status": "completed"
        },
        "tags": [],
        "id": "d9b9e7c0"
      },
      "source": [
        "## **11. Testing Model**"
      ]
    },
    {
      "cell_type": "code",
      "execution_count": null,
      "id": "c584cb55",
      "metadata": {
        "execution": {
          "iopub.execute_input": "2023-08-22T10:54:33.882341Z",
          "iopub.status.busy": "2023-08-22T10:54:33.881966Z",
          "iopub.status.idle": "2023-08-22T10:54:33.887232Z",
          "shell.execute_reply": "2023-08-22T10:54:33.886171Z"
        },
        "papermill": {
          "duration": 0.092531,
          "end_time": "2023-08-22T10:54:33.889572",
          "exception": false,
          "start_time": "2023-08-22T10:54:33.797041",
          "status": "completed"
        },
        "tags": [],
        "id": "c584cb55"
      },
      "outputs": [],
      "source": [
        "def pred(val_input_ids,val_attention_mask):\n",
        "    return model.predict([val_input_ids,val_attention_mask])"
      ]
    },
    {
      "cell_type": "code",
      "execution_count": null,
      "id": "bfa383aa",
      "metadata": {
        "execution": {
          "iopub.execute_input": "2023-08-22T10:54:34.061607Z",
          "iopub.status.busy": "2023-08-22T10:54:34.061111Z",
          "iopub.status.idle": "2023-08-22T10:54:34.069753Z",
          "shell.execute_reply": "2023-08-22T10:54:34.068603Z"
        },
        "papermill": {
          "duration": 0.092465,
          "end_time": "2023-08-22T10:54:34.072028",
          "exception": false,
          "start_time": "2023-08-22T10:54:33.979563",
          "status": "completed"
        },
        "tags": [],
        "id": "bfa383aa"
      },
      "outputs": [],
      "source": [
        "def testing(val_input_ids,val_attention_mask,enc_tag,y_test):\n",
        "    val_input = val_input_ids.reshape(1,128)\n",
        "    val_attention = val_attention_mask.reshape(1,128)\n",
        "\n",
        "    # Print Original Sentence\n",
        "    sentence = tokenizer.decode(val_input_ids[val_input_ids > 0])\n",
        "    print(\"Original Text : \",str(sentence))\n",
        "    print(\"\\n\")\n",
        "    true_enc_tag = enc_tag.inverse_transform(y_test)\n",
        "\n",
        "    print(\"Original Tags : \" ,str(true_enc_tag))\n",
        "    print(\"\\n\")\n",
        "\n",
        "    pred_with_pad = np.argmax(pred(val_input,val_attention),axis = -1)\n",
        "    pred_without_pad = pred_with_pad[pred_with_pad>0]\n",
        "    pred_enc_tag = enc_tag.inverse_transform(pred_without_pad)\n",
        "    print(\"Predicted Tags : \",pred_enc_tag)\n",
        ""
      ]
    },
    {
      "cell_type": "code",
      "execution_count": null,
      "id": "4d692337",
      "metadata": {
        "execution": {
          "iopub.execute_input": "2023-08-22T10:54:34.239588Z",
          "iopub.status.busy": "2023-08-22T10:54:34.238943Z",
          "iopub.status.idle": "2023-08-22T10:54:37.135039Z",
          "shell.execute_reply": "2023-08-22T10:54:37.133843Z"
        },
        "papermill": {
          "duration": 2.98413,
          "end_time": "2023-08-22T10:54:37.137824",
          "exception": false,
          "start_time": "2023-08-22T10:54:34.153694",
          "status": "completed"
        },
        "tags": [],
        "id": "4d692337",
        "outputId": "b3f8b1ab-9007-495d-c1f6-789827d691c5"
      },
      "outputs": [
        {
          "name": "stdout",
          "output_type": "stream",
          "text": [
            "Original Text :  [CLS] the report calls on president bush and congress to urge chinese officials not to use the global war against terrorism as a pretext to suppress minorities'rights. [SEP]\n",
            "\n",
            "\n",
            "Original Tags :  ['O' 'O' 'O' 'O' 'B-per' 'I-per' 'O' 'B-org' 'O' 'O' 'B-gpe' 'O' 'O' 'O'\n",
            " 'O' 'O' 'O' 'O' 'O' 'O' 'O' 'O' 'O' 'O' 'O' 'O' 'O' 'O' 'O']\n",
            "\n",
            "\n",
            "Predicted Tags :  ['O' 'O' 'O' 'O' 'B-per' 'I-per' 'O' 'O' 'O' 'O' 'B-gpe' 'O' 'O' 'O' 'O'\n",
            " 'O' 'O' 'O' 'O' 'O' 'O' 'O' 'O' 'O' 'O' 'O' 'O' 'O' 'O']\n"
          ]
        }
      ],
      "source": [
        "testing(val_input_ids[0],val_attention_mask[0],enc_tag,y_test[0])"
      ]
    },
    {
      "cell_type": "markdown",
      "id": "0943149e",
      "metadata": {
        "papermill": {
          "duration": 0.08146,
          "end_time": "2023-08-22T10:54:37.298253",
          "exception": false,
          "start_time": "2023-08-22T10:54:37.216793",
          "status": "completed"
        },
        "tags": [],
        "id": "0943149e"
      },
      "source": [
        "**Looking at Original Tags and Predicted Tags, Both seems Equal. Which Means, Model Has Performed well.**"
      ]
    }
  ],
  "metadata": {
    "kernelspec": {
      "display_name": "Python 3",
      "language": "python",
      "name": "python3"
    },
    "language_info": {
      "codemirror_mode": {
        "name": "ipython",
        "version": 3
      },
      "file_extension": ".py",
      "mimetype": "text/x-python",
      "name": "python",
      "nbconvert_exporter": "python",
      "pygments_lexer": "ipython3",
      "version": "3.7.12"
    },
    "papermill": {
      "default_parameters": {},
      "duration": 1214.135758,
      "end_time": "2023-08-22T10:54:41.266180",
      "environment_variables": {},
      "exception": null,
      "input_path": "__notebook__.ipynb",
      "output_path": "__notebook__.ipynb",
      "parameters": {},
      "start_time": "2023-08-22T10:34:27.130422",
      "version": "2.3.4"
    },
    "widgets": {
      "application/vnd.jupyter.widget-state+json": {}
    },
    "colab": {
      "provenance": [],
      "include_colab_link": true
    }
  },
  "nbformat": 4,
  "nbformat_minor": 5
}